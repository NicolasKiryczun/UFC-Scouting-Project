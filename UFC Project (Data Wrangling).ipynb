{
 "cells": [
  {
   "cell_type": "markdown",
   "id": "f5f387ea",
   "metadata": {},
   "source": [
    "# Data Wrangling"
   ]
  },
  {
   "cell_type": "markdown",
   "id": "aa82d2fa",
   "metadata": {},
   "source": [
    "## Imports"
   ]
  },
  {
   "cell_type": "code",
   "execution_count": 1,
   "id": "47809edf",
   "metadata": {},
   "outputs": [],
   "source": [
    "import pandas as pd\n",
    "import numpy as np\n",
    "import matplotlib.pyplot as plt\n",
    "import seaborn as sns"
   ]
  },
  {
   "cell_type": "code",
   "execution_count": 2,
   "id": "4bfad0f5",
   "metadata": {},
   "outputs": [],
   "source": [
    "ufc_dataset = pd.read_csv(r\"C:\\Everything related to Python\\01 Python Project Datasets\\Ultimate UFC Dataset (2010 - 2024) (TRIMMED) v2.csv\")"
   ]
  },
  {
   "cell_type": "markdown",
   "id": "b9c63532",
   "metadata": {},
   "source": [
    "## Data Transformation and Cleaning"
   ]
  },
  {
   "cell_type": "markdown",
   "id": "b28a42a6",
   "metadata": {},
   "source": [
    "Transform the dataset to show every row as a unique fighter.\n",
    "Separate dataset into two tables, concanate together, then rename columns to relevant/accessible substitutes"
   ]
  },
  {
   "cell_type": "code",
   "execution_count": 3,
   "id": "e6a18eff",
   "metadata": {},
   "outputs": [],
   "source": [
    "red_fighters = ufc_dataset[['BlueFighter', 'Date', 'WeightClass', 'Gender', 'BlueCurrentLoseStreak', 'BlueCurrentWinStreak', 'BlueDraws', 'BlueAvgSigStrLanded', 'BlueAvgSigStrPct', 'BlueAvgSubAtt',\n",
    "'BlueAvgTDLanded', 'BlueAvgTDPct', 'BlueLongestWinStreak', 'BlueLosses', 'BlueTotalRoundsFought', 'BlueTotalTitleBouts', 'BlueWinsByDecisionMajority', 'BlueWinsByDecisionSplit',\t\n",
    "'BlueWinsByDecisionUnanimous', 'BlueWinsByKO', 'BlueWinsBySubmission', 'BlueWinsByTKODoctorStoppage', 'BlueWins', 'BlueStance',\t'BlueHeightCms', 'BlueReachCms', 'BlueAge']]\n",
    "\n",
    "blue_fighters = ufc_dataset[['RedFighter', 'Date', 'WeightClass', 'Gender', 'RedCurrentLoseStreak', 'RedCurrentWinStreak', 'RedDraws', 'RedAvgSigStrLanded', 'RedAvgSigStrPct', 'RedAvgSubAtt',\n",
    "'RedAvgTDLanded', 'RedAvgTDPct', 'RedLongestWinStreak', 'RedLosses', 'RedTotalRoundsFought', 'RedTotalTitleBouts', 'RedWinsByDecisionMajority', 'RedWinsByDecisionSplit', \n",
    "'RedWinsByDecisionUnanimous', 'RedWinsByKO', 'RedWinsBySubmission', 'RedWinsByTKODoctorStoppage', 'RedWins', 'RedStance', 'RedHeightCms', 'RedReachCms', 'RedAge']]"
   ]
  },
  {
   "cell_type": "code",
   "execution_count": 4,
   "id": "d789915c",
   "metadata": {},
   "outputs": [],
   "source": [
    "common_columns = list(range(1, 28))\n",
    "\n",
    "red_fighters.columns = common_columns\n",
    "blue_fighters.columns = common_columns\n",
    "\n",
    "fighters_raw_data = pd.concat([red_fighters, blue_fighters], axis = 0)"
   ]
  },
  {
   "cell_type": "code",
   "execution_count": 5,
   "id": "76aa9fff",
   "metadata": {},
   "outputs": [],
   "source": [
    "fighters_raw_data = fighters_raw_data.rename({\n",
    "1: 'name', \n",
    "2: 'date', \n",
    "3: 'weight_class', \n",
    "4: 'gender', \n",
    "5: 'current_lose_streak', \n",
    "6: 'current_win_streak', \n",
    "7: 'draws', \n",
    "8: 'avg_sig_str_landed', \n",
    "9: 'avg_sig_str_pct', \n",
    "10: 'avg_sub_att', \n",
    "11: 'avg_td_landed', \n",
    "12: 'avg_td_pct', \n",
    "13: 'longest_win_streak', \n",
    "14: 'losses', \n",
    "15: 'total_rounds_fought',    \n",
    "16: 'total_title_bouts', \n",
    "17: 'wins_by_decision_majority', \n",
    "18: 'wins_by_decision_split', \n",
    "19: 'wins_by_decision_unanimous', \n",
    "20: 'wins_by_ko', \n",
    "21: 'wins_by_submission', \n",
    "22: 'wins_by_tko_doctor_stoppage', \n",
    "23: 'wins', \n",
    "24: 'stance', \n",
    "25: 'height_cms', \n",
    "26: 'reach_cms', \n",
    "27: 'age' \n",
    "}, \n",
    "axis = 'columns')"
   ]
  },
  {
   "cell_type": "markdown",
   "id": "d9d39158",
   "metadata": {},
   "source": [
    "Rearrange column order for ease of use"
   ]
  },
  {
   "cell_type": "code",
   "execution_count": 6,
   "id": "5fab9752",
   "metadata": {},
   "outputs": [],
   "source": [
    "moving_columns = ['age', 'stance', 'height_cms', 'reach_cms']\n",
    "non_moving_columns = [col for col in fighters_raw_data.columns if col not in moving_columns]\n",
    "new_order = [non_moving_columns[0]] + moving_columns + non_moving_columns[1:]\n",
    "fighters_raw_data = fighters_raw_data[new_order]"
   ]
  },
  {
   "cell_type": "markdown",
   "id": "449b47b2",
   "metadata": {},
   "source": [
    "Convert \"date\" column to conventional format and ensure data-type is datetime64"
   ]
  },
  {
   "cell_type": "code",
   "execution_count": 7,
   "id": "11c74677",
   "metadata": {},
   "outputs": [],
   "source": [
    "fighters_raw_data['date'] = pd.to_datetime(fighters_raw_data['date'])"
   ]
  },
  {
   "cell_type": "markdown",
   "id": "97d34d11",
   "metadata": {},
   "source": [
    "Reset index, get only one unique fighter per column, and make sure all fighter values are up to date (before most recent fight as of 12/6/24).\n",
    "The main dataset is now being renamed to \"roster\""
   ]
  },
  {
   "cell_type": "code",
   "execution_count": 8,
   "id": "d9ca7ba8",
   "metadata": {},
   "outputs": [],
   "source": [
    "fighters_raw_data = fighters_raw_data.reset_index(drop=True)\n",
    "newest_fighter_info = fighters_raw_data.groupby('name')['date'].idxmax()\n",
    "roster = fighters_raw_data.loc[newest_fighter_info]"
   ]
  },
  {
   "cell_type": "markdown",
   "id": "fe5e5b85",
   "metadata": {},
   "source": [
    "Create new columns 'wins_by_decision', 'total_bouts', and 'weight_class_lbs'"
   ]
  },
  {
   "cell_type": "code",
   "execution_count": 9,
   "id": "af168fa7",
   "metadata": {},
   "outputs": [],
   "source": [
    "roster['wins_by_decision'] = roster['wins_by_decision_majority'] + roster['wins_by_decision_split'] + roster['wins_by_decision_unanimous']\n",
    "\n",
    "roster['total_bouts'] = roster['draws'] + roster['losses'] + roster['wins']\n",
    "\n",
    "reassigned_weights = {\n",
    "    'Flyweight': 125,\n",
    "    'Bantamweight': 135,\n",
    "    'Featherweight': 145,\n",
    "    'Lightweight': 155,\n",
    "    'Welterweight': 170,\n",
    "    'Middleweight': 185,\n",
    "    'Light Heavyweight': 205,\n",
    "    'Heavyweight': 265,\n",
    "    \"Women's Strawweight\": 115,\n",
    "    \"Women's Flyweight\": 125,\n",
    "    \"Women's Bantamweight\": 135,\n",
    "    \"Women's Featherweight\": 145\n",
    "}\n",
    "    \n",
    "roster['weight_class_lbs'] = roster['weight_class'].map(reassigned_weights)"
   ]
  },
  {
   "cell_type": "markdown",
   "id": "3c7e08fa",
   "metadata": {},
   "source": [
    "Save current dataset as CSV to preserve incase needed, and recall newly made CSV into workbook"
   ]
  },
  {
   "cell_type": "code",
   "execution_count": 10,
   "id": "231ddf2d",
   "metadata": {},
   "outputs": [],
   "source": [
    "roster.to_csv(r\"C:\\Everything related to Python\\01 Python Project Datasets\\roster.csv\", index=False)"
   ]
  },
  {
   "cell_type": "code",
   "execution_count": 11,
   "id": "092a2a49",
   "metadata": {},
   "outputs": [],
   "source": [
    "roster = pd.read_csv(r\"C:\\Everything related to Python\\01 Python Project Datasets\\roster.csv\")"
   ]
  },
  {
   "cell_type": "markdown",
   "id": "72daefd0",
   "metadata": {},
   "source": [
    "Create a subset of roster titled \"superstars\", which will include all recognized superstars into their own dataset for further analysis"
   ]
  },
  {
   "cell_type": "code",
   "execution_count": 12,
   "id": "b235ef1a",
   "metadata": {},
   "outputs": [],
   "source": [
    "superstar_fighters = [\n",
    "'Conor McGregor',\n",
    "'Khabib Nurmagomedov',\n",
    "'Jon Jones',\n",
    "'Alex Pereira',\n",
    "'Israel Adesanya',\n",
    "\"Sean O'Malley\",\n",
    "'Max Holloway',\n",
    "'Ronda Rousey',\n",
    "'Islam Makhachev',\n",
    "'Charles Oliveira',\n",
    "'Jorge Masvidal',\n",
    "'Stipe Miocic',\n",
    "'Francis Ngannou',\n",
    "'Dustin Poirier',\n",
    "'Amanda Nunes',\n",
    "'Valentina Shevchenko',\n",
    "'Tony Ferguson',\n",
    "'Nate Diaz',\n",
    "'Ilia Topuria',\n",
    "'Khamzat Chimaev',\n",
    "'Alexander Volkanovski',\n",
    "'Paddy Pimblett',\n",
    "'Daniel Cormier']\n",
    "\n",
    "superstars = roster[roster['name'].isin(superstar_fighters)]\n",
    "superstars = superstars.reset_index(drop = True)"
   ]
  }
 ],
 "metadata": {
  "kernelspec": {
   "display_name": "base",
   "language": "python",
   "name": "python3"
  },
  "language_info": {
   "codemirror_mode": {
    "name": "ipython",
    "version": 3
   },
   "file_extension": ".py",
   "mimetype": "text/x-python",
   "name": "python",
   "nbconvert_exporter": "python",
   "pygments_lexer": "ipython3",
   "version": "3.13.5"
  }
 },
 "nbformat": 4,
 "nbformat_minor": 5
}
